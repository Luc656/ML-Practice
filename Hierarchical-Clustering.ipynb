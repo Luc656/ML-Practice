{
 "cells": [
  {
   "cell_type": "code",
   "execution_count": 1,
   "id": "a8ba7133",
   "metadata": {},
   "outputs": [],
   "source": [
    "import numpy as np\n",
    "import pandas as pd\n",
    "import matplotlib.pyplot as plt\n",
    "import seaborn as sns"
   ]
  },
  {
   "cell_type": "code",
   "execution_count": 2,
   "id": "b0212eb2",
   "metadata": {},
   "outputs": [],
   "source": [
    "df = pd.read_csv('../DATA/cluster_mpg.csv')"
   ]
  },
  {
   "cell_type": "code",
   "execution_count": 4,
   "id": "61b00033",
   "metadata": {},
   "outputs": [
    {
     "data": {
      "text/plain": [
       "mpg             0\n",
       "cylinders       0\n",
       "displacement    0\n",
       "horsepower      0\n",
       "weight          0\n",
       "acceleration    0\n",
       "model_year      0\n",
       "origin          0\n",
       "name            0\n",
       "dtype: int64"
      ]
     },
     "execution_count": 4,
     "metadata": {},
     "output_type": "execute_result"
    }
   ],
   "source": [
    "df.isna().sum()"
   ]
  },
  {
   "cell_type": "code",
   "execution_count": 5,
   "id": "aab56acc",
   "metadata": {},
   "outputs": [
    {
     "data": {
      "text/html": [
       "<div>\n",
       "<style scoped>\n",
       "    .dataframe tbody tr th:only-of-type {\n",
       "        vertical-align: middle;\n",
       "    }\n",
       "\n",
       "    .dataframe tbody tr th {\n",
       "        vertical-align: top;\n",
       "    }\n",
       "\n",
       "    .dataframe thead th {\n",
       "        text-align: right;\n",
       "    }\n",
       "</style>\n",
       "<table border=\"1\" class=\"dataframe\">\n",
       "  <thead>\n",
       "    <tr style=\"text-align: right;\">\n",
       "      <th></th>\n",
       "      <th>mpg</th>\n",
       "      <th>cylinders</th>\n",
       "      <th>displacement</th>\n",
       "      <th>horsepower</th>\n",
       "      <th>weight</th>\n",
       "      <th>acceleration</th>\n",
       "      <th>model_year</th>\n",
       "      <th>origin</th>\n",
       "      <th>name</th>\n",
       "    </tr>\n",
       "  </thead>\n",
       "  <tbody>\n",
       "    <tr>\n",
       "      <th>0</th>\n",
       "      <td>18.0</td>\n",
       "      <td>8</td>\n",
       "      <td>307.0</td>\n",
       "      <td>130.0</td>\n",
       "      <td>3504</td>\n",
       "      <td>12.0</td>\n",
       "      <td>70</td>\n",
       "      <td>usa</td>\n",
       "      <td>chevrolet chevelle malibu</td>\n",
       "    </tr>\n",
       "    <tr>\n",
       "      <th>1</th>\n",
       "      <td>15.0</td>\n",
       "      <td>8</td>\n",
       "      <td>350.0</td>\n",
       "      <td>165.0</td>\n",
       "      <td>3693</td>\n",
       "      <td>11.5</td>\n",
       "      <td>70</td>\n",
       "      <td>usa</td>\n",
       "      <td>buick skylark 320</td>\n",
       "    </tr>\n",
       "    <tr>\n",
       "      <th>2</th>\n",
       "      <td>18.0</td>\n",
       "      <td>8</td>\n",
       "      <td>318.0</td>\n",
       "      <td>150.0</td>\n",
       "      <td>3436</td>\n",
       "      <td>11.0</td>\n",
       "      <td>70</td>\n",
       "      <td>usa</td>\n",
       "      <td>plymouth satellite</td>\n",
       "    </tr>\n",
       "    <tr>\n",
       "      <th>3</th>\n",
       "      <td>16.0</td>\n",
       "      <td>8</td>\n",
       "      <td>304.0</td>\n",
       "      <td>150.0</td>\n",
       "      <td>3433</td>\n",
       "      <td>12.0</td>\n",
       "      <td>70</td>\n",
       "      <td>usa</td>\n",
       "      <td>amc rebel sst</td>\n",
       "    </tr>\n",
       "    <tr>\n",
       "      <th>4</th>\n",
       "      <td>17.0</td>\n",
       "      <td>8</td>\n",
       "      <td>302.0</td>\n",
       "      <td>140.0</td>\n",
       "      <td>3449</td>\n",
       "      <td>10.5</td>\n",
       "      <td>70</td>\n",
       "      <td>usa</td>\n",
       "      <td>ford torino</td>\n",
       "    </tr>\n",
       "  </tbody>\n",
       "</table>\n",
       "</div>"
      ],
      "text/plain": [
       "    mpg  cylinders  displacement  horsepower  weight  acceleration  \\\n",
       "0  18.0          8         307.0       130.0    3504          12.0   \n",
       "1  15.0          8         350.0       165.0    3693          11.5   \n",
       "2  18.0          8         318.0       150.0    3436          11.0   \n",
       "3  16.0          8         304.0       150.0    3433          12.0   \n",
       "4  17.0          8         302.0       140.0    3449          10.5   \n",
       "\n",
       "   model_year origin                       name  \n",
       "0          70    usa  chevrolet chevelle malibu  \n",
       "1          70    usa          buick skylark 320  \n",
       "2          70    usa         plymouth satellite  \n",
       "3          70    usa              amc rebel sst  \n",
       "4          70    usa                ford torino  "
      ]
     },
     "execution_count": 5,
     "metadata": {},
     "output_type": "execute_result"
    }
   ],
   "source": [
    "df.head()"
   ]
  },
  {
   "cell_type": "code",
   "execution_count": 6,
   "id": "4777eee2",
   "metadata": {},
   "outputs": [
    {
     "name": "stdout",
     "output_type": "stream",
     "text": [
      "<class 'pandas.core.frame.DataFrame'>\n",
      "RangeIndex: 392 entries, 0 to 391\n",
      "Data columns (total 9 columns):\n",
      " #   Column        Non-Null Count  Dtype  \n",
      "---  ------        --------------  -----  \n",
      " 0   mpg           392 non-null    float64\n",
      " 1   cylinders     392 non-null    int64  \n",
      " 2   displacement  392 non-null    float64\n",
      " 3   horsepower    392 non-null    float64\n",
      " 4   weight        392 non-null    int64  \n",
      " 5   acceleration  392 non-null    float64\n",
      " 6   model_year    392 non-null    int64  \n",
      " 7   origin        392 non-null    object \n",
      " 8   name          392 non-null    object \n",
      "dtypes: float64(4), int64(3), object(2)\n",
      "memory usage: 27.7+ KB\n"
     ]
    }
   ],
   "source": [
    "df.info()"
   ]
  },
  {
   "cell_type": "code",
   "execution_count": 7,
   "id": "6532226d",
   "metadata": {},
   "outputs": [],
   "source": [
    "dfDum = pd.get_dummies(df.drop('name',axis=1))"
   ]
  },
  {
   "cell_type": "code",
   "execution_count": 8,
   "id": "53137607",
   "metadata": {},
   "outputs": [],
   "source": [
    "from sklearn.preprocessing import MinMaxScaler"
   ]
  },
  {
   "cell_type": "code",
   "execution_count": 9,
   "id": "496f7263",
   "metadata": {},
   "outputs": [],
   "source": [
    "scaler = MinMaxScaler()"
   ]
  },
  {
   "cell_type": "code",
   "execution_count": 10,
   "id": "2d7bf895",
   "metadata": {},
   "outputs": [],
   "source": [
    "dfS = scaler.fit_transform(dfDum)"
   ]
  },
  {
   "cell_type": "code",
   "execution_count": 13,
   "id": "0d98b6f3",
   "metadata": {},
   "outputs": [
    {
     "data": {
      "text/plain": [
       "array([[0.2393617 , 1.        , 0.61757106, ..., 0.        , 0.        ,\n",
       "        1.        ],\n",
       "       [0.15957447, 1.        , 0.72868217, ..., 0.        , 0.        ,\n",
       "        1.        ],\n",
       "       [0.2393617 , 1.        , 0.64599483, ..., 0.        , 0.        ,\n",
       "        1.        ],\n",
       "       ...,\n",
       "       [0.61170213, 0.2       , 0.17312661, ..., 0.        , 0.        ,\n",
       "        1.        ],\n",
       "       [0.50531915, 0.2       , 0.13436693, ..., 0.        , 0.        ,\n",
       "        1.        ],\n",
       "       [0.58510638, 0.2       , 0.13178295, ..., 0.        , 0.        ,\n",
       "        1.        ]])"
      ]
     },
     "execution_count": 13,
     "metadata": {},
     "output_type": "execute_result"
    }
   ],
   "source": [
    "dfS"
   ]
  },
  {
   "cell_type": "code",
   "execution_count": 14,
   "id": "4a0b6a30",
   "metadata": {},
   "outputs": [],
   "source": [
    "dfS = pd.DataFrame(dfS, columns = dfDum.columns)"
   ]
  },
  {
   "cell_type": "code",
   "execution_count": 15,
   "id": "a3f90548",
   "metadata": {},
   "outputs": [
    {
     "data": {
      "text/html": [
       "<div>\n",
       "<style scoped>\n",
       "    .dataframe tbody tr th:only-of-type {\n",
       "        vertical-align: middle;\n",
       "    }\n",
       "\n",
       "    .dataframe tbody tr th {\n",
       "        vertical-align: top;\n",
       "    }\n",
       "\n",
       "    .dataframe thead th {\n",
       "        text-align: right;\n",
       "    }\n",
       "</style>\n",
       "<table border=\"1\" class=\"dataframe\">\n",
       "  <thead>\n",
       "    <tr style=\"text-align: right;\">\n",
       "      <th></th>\n",
       "      <th>mpg</th>\n",
       "      <th>cylinders</th>\n",
       "      <th>displacement</th>\n",
       "      <th>horsepower</th>\n",
       "      <th>weight</th>\n",
       "      <th>acceleration</th>\n",
       "      <th>model_year</th>\n",
       "      <th>origin_europe</th>\n",
       "      <th>origin_japan</th>\n",
       "      <th>origin_usa</th>\n",
       "    </tr>\n",
       "  </thead>\n",
       "  <tbody>\n",
       "    <tr>\n",
       "      <th>0</th>\n",
       "      <td>0.239362</td>\n",
       "      <td>1.0</td>\n",
       "      <td>0.617571</td>\n",
       "      <td>0.456522</td>\n",
       "      <td>0.536150</td>\n",
       "      <td>0.238095</td>\n",
       "      <td>0.0</td>\n",
       "      <td>0.0</td>\n",
       "      <td>0.0</td>\n",
       "      <td>1.0</td>\n",
       "    </tr>\n",
       "    <tr>\n",
       "      <th>1</th>\n",
       "      <td>0.159574</td>\n",
       "      <td>1.0</td>\n",
       "      <td>0.728682</td>\n",
       "      <td>0.646739</td>\n",
       "      <td>0.589736</td>\n",
       "      <td>0.208333</td>\n",
       "      <td>0.0</td>\n",
       "      <td>0.0</td>\n",
       "      <td>0.0</td>\n",
       "      <td>1.0</td>\n",
       "    </tr>\n",
       "    <tr>\n",
       "      <th>2</th>\n",
       "      <td>0.239362</td>\n",
       "      <td>1.0</td>\n",
       "      <td>0.645995</td>\n",
       "      <td>0.565217</td>\n",
       "      <td>0.516870</td>\n",
       "      <td>0.178571</td>\n",
       "      <td>0.0</td>\n",
       "      <td>0.0</td>\n",
       "      <td>0.0</td>\n",
       "      <td>1.0</td>\n",
       "    </tr>\n",
       "    <tr>\n",
       "      <th>3</th>\n",
       "      <td>0.186170</td>\n",
       "      <td>1.0</td>\n",
       "      <td>0.609819</td>\n",
       "      <td>0.565217</td>\n",
       "      <td>0.516019</td>\n",
       "      <td>0.238095</td>\n",
       "      <td>0.0</td>\n",
       "      <td>0.0</td>\n",
       "      <td>0.0</td>\n",
       "      <td>1.0</td>\n",
       "    </tr>\n",
       "    <tr>\n",
       "      <th>4</th>\n",
       "      <td>0.212766</td>\n",
       "      <td>1.0</td>\n",
       "      <td>0.604651</td>\n",
       "      <td>0.510870</td>\n",
       "      <td>0.520556</td>\n",
       "      <td>0.148810</td>\n",
       "      <td>0.0</td>\n",
       "      <td>0.0</td>\n",
       "      <td>0.0</td>\n",
       "      <td>1.0</td>\n",
       "    </tr>\n",
       "  </tbody>\n",
       "</table>\n",
       "</div>"
      ],
      "text/plain": [
       "        mpg  cylinders  displacement  horsepower    weight  acceleration  \\\n",
       "0  0.239362        1.0      0.617571    0.456522  0.536150      0.238095   \n",
       "1  0.159574        1.0      0.728682    0.646739  0.589736      0.208333   \n",
       "2  0.239362        1.0      0.645995    0.565217  0.516870      0.178571   \n",
       "3  0.186170        1.0      0.609819    0.565217  0.516019      0.238095   \n",
       "4  0.212766        1.0      0.604651    0.510870  0.520556      0.148810   \n",
       "\n",
       "   model_year  origin_europe  origin_japan  origin_usa  \n",
       "0         0.0            0.0           0.0         1.0  \n",
       "1         0.0            0.0           0.0         1.0  \n",
       "2         0.0            0.0           0.0         1.0  \n",
       "3         0.0            0.0           0.0         1.0  \n",
       "4         0.0            0.0           0.0         1.0  "
      ]
     },
     "execution_count": 15,
     "metadata": {},
     "output_type": "execute_result"
    }
   ],
   "source": [
    "dfS.head()"
   ]
  },
  {
   "cell_type": "code",
   "execution_count": 17,
   "id": "e992260b",
   "metadata": {},
   "outputs": [
    {
     "data": {
      "text/plain": [
       "<AxesSubplot:>"
      ]
     },
     "execution_count": 17,
     "metadata": {},
     "output_type": "execute_result"
    },
    {
     "data": {
      "image/png": "[encoded data removed]",
      "text/plain": [
       "<Figure size 864x576 with 2 Axes>"
      ]
     },
     "metadata": {
      "needs_background": "light"
     },
     "output_type": "display_data"
    }
   ],
   "source": [
    "plt.figure(figsize=(12,8))\n",
    "sns.heatmap(dfS)"
   ]
  },
  {
   "cell_type": "code",
   "execution_count": 19,
   "id": "21761e40",
   "metadata": {},
   "outputs": [
    {
     "data": {
      "text/plain": [
       "<seaborn.matrix.ClusterGrid at 0x7fa9793f3400>"
      ]
     },
     "execution_count": 19,
     "metadata": {},
     "output_type": "execute_result"
    },
    {
     "data": {
      "image/png": "[encoded data removed]",
      "text/plain": [
       "<Figure size 720x720 with 4 Axes>"
      ]
     },
     "metadata": {
      "needs_background": "light"
     },
     "output_type": "display_data"
    }
   ],
   "source": [
    "sns.clustermap(dfS,row_cluster=False)"
   ]
  },
  {
   "cell_type": "code",
   "execution_count": 20,
   "id": "d5373622",
   "metadata": {},
   "outputs": [],
   "source": [
    "from sklearn.cluster import AgglomerativeClustering"
   ]
  },
  {
   "cell_type": "code",
   "execution_count": 21,
   "id": "0b56b83d",
   "metadata": {},
   "outputs": [],
   "source": [
    "model = AgglomerativeClustering(n_clusters=4)"
   ]
  },
  {
   "cell_type": "code",
   "execution_count": 22,
   "id": "5d68709a",
   "metadata": {},
   "outputs": [],
   "source": [
    "labels = model.fit_predict(dfS)"
   ]
  },
  {
   "cell_type": "code",
   "execution_count": 24,
   "id": "8e125e1f",
   "metadata": {},
   "outputs": [
    {
     "data": {
      "text/plain": [
       "array([1, 1, 1, 1, 1, 1, 1, 1, 1, 1, 1, 1, 1, 1, 3, 0, 0, 0, 3, 2, 2, 2,\n",
       "       2, 2, 0, 1, 1, 1, 1, 3, 0, 3, 0, 0, 0, 0, 0, 1, 1, 1, 1, 1, 1, 1,\n",
       "       0, 0, 0, 0, 0, 2, 2, 2, 3, 3, 2, 0, 3, 0, 2, 0, 0, 1, 1, 1, 1, 1,\n",
       "       1, 1, 1, 1, 3, 1, 1, 1, 1, 2, 2, 2, 2, 0, 3, 3, 0, 3, 1, 1, 1, 1,\n",
       "       1, 1, 1, 1, 1, 1, 1, 1, 0, 0, 0, 0, 0, 2, 1, 1, 1, 1, 0, 3, 0, 3,\n",
       "       3, 0, 0, 2, 1, 1, 2, 2, 2, 2, 1, 2, 3, 1, 0, 0, 0, 3, 0, 3, 0, 0,\n",
       "       0, 0, 1, 1, 1, 1, 1, 2, 2, 2, 3, 3, 0, 2, 2, 3, 3, 2, 0, 0, 0, 0,\n",
       "       1, 1, 1, 1, 0, 0, 0, 0, 0, 1, 1, 3, 0, 0, 0, 3, 2, 3, 0, 2, 0, 2,\n",
       "       2, 2, 2, 3, 2, 2, 0, 0, 2, 1, 1, 1, 1, 0, 0, 0, 0, 0, 0, 2, 3, 0,\n",
       "       0, 0, 0, 2, 3, 3, 0, 2, 1, 2, 3, 2, 1, 1, 1, 1, 3, 0, 2, 0, 3, 1,\n",
       "       1, 1, 1, 0, 0, 0, 0, 1, 1, 1, 1, 2, 0, 3, 0, 0, 0, 3, 2, 3, 2, 3,\n",
       "       2, 0, 3, 3, 3, 1, 1, 1, 0, 0, 0, 0, 0, 0, 0, 0, 0, 0, 1, 0, 1, 1,\n",
       "       0, 3, 3, 0, 3, 0, 0, 3, 2, 2, 2, 2, 2, 3, 0, 0, 0, 0, 0, 1, 1, 1,\n",
       "       1, 1, 1, 1, 1, 2, 3, 0, 0, 2, 1, 2, 1, 0, 0, 3, 2, 0, 0, 0, 0, 2,\n",
       "       3, 0, 3, 0, 0, 0, 0, 2, 3, 3, 3, 3, 3, 0, 3, 2, 2, 2, 2, 3, 3, 2,\n",
       "       3, 3, 2, 3, 0, 0, 0, 0, 0, 3, 0, 3, 3, 3, 3, 3, 0, 0, 0, 2, 3, 3,\n",
       "       3, 3, 2, 2, 3, 3, 0, 1, 0, 0, 0, 0, 0, 0, 0, 0, 0, 2, 3, 3, 0, 0,\n",
       "       3, 3, 3, 3, 3, 3, 0, 0, 0, 0, 3, 0, 0, 0, 2, 0, 0, 0])"
      ]
     },
     "execution_count": 24,
     "metadata": {},
     "output_type": "execute_result"
    }
   ],
   "source": [
    "labels"
   ]
  },
  {
   "cell_type": "code",
   "execution_count": 25,
   "id": "820380ce",
   "metadata": {},
   "outputs": [
    {
     "data": {
      "text/plain": [
       "<AxesSubplot:xlabel='mpg', ylabel='weight'>"
      ]
     },
     "execution_count": 25,
     "metadata": {},
     "output_type": "execute_result"
    },
    {
     "data": {
      "image/png": "[encoded data removed]",
      "text/plain": [
       "<Figure size 432x288 with 1 Axes>"
      ]
     },
     "metadata": {
      "needs_background": "light"
     },
     "output_type": "display_data"
    }
   ],
   "source": [
    "sns.scatterplot(data=df,x='mpg',y='weight',hue=labels)"
   ]
  },
  {
   "cell_type": "code",
   "execution_count": 26,
   "id": "569fa71b",
   "metadata": {},
   "outputs": [],
   "source": [
    "model = AgglomerativeClustering(n_clusters=None,distance_threshold=0)"
   ]
  },
  {
   "cell_type": "code",
   "execution_count": 27,
   "id": "97f6f5d3",
   "metadata": {},
   "outputs": [],
   "source": [
    "labels = model.fit_predict(dfS)"
   ]
  },
  {
   "cell_type": "code",
   "execution_count": 28,
   "id": "4e3bd417",
   "metadata": {},
   "outputs": [
    {
     "data": {
      "text/plain": [
       "array([247, 252, 360, 302, 326, 381, 384, 338, 300, 279, 217, 311, 377,\n",
       "       281, 232, 334, 272, 375, 354, 333, 317, 345, 329, 289, 305, 383,\n",
       "       290, 205, 355, 269, 202, 144, 245, 297, 386, 358, 199, 337, 330,\n",
       "       339, 293, 352, 283, 196, 253, 168, 378, 331, 201, 268, 256, 361,\n",
       "       250, 197, 246, 371, 324, 230, 203, 261, 380, 376, 308, 389, 332,\n",
       "       306, 236, 391, 350, 274, 288, 313, 231, 298, 100, 295, 210, 248,\n",
       "       187, 390, 373, 266, 307, 379, 212, 357, 191, 314, 208, 249, 343,\n",
       "       294, 374, 322, 323, 362, 188, 296, 369, 286, 251, 229, 244, 285,\n",
       "       349, 365, 259, 213, 276, 215, 222, 204, 359, 287, 166, 387, 291,\n",
       "       220, 216, 260, 129, 367, 340, 346, 301, 342, 228, 388, 370, 218,\n",
       "       255, 327, 347, 278, 271, 258, 282, 318, 273, 123, 172, 382, 363,\n",
       "       356, 195, 280, 239, 364, 267, 351, 186, 257, 277, 299, 127, 366,\n",
       "       234, 385, 192, 372, 292, 233, 270, 263, 133, 165, 161, 198,  97,\n",
       "       315, 134, 207, 147, 175, 262, 348,  98, 214,  48, 353, 177, 325,\n",
       "       128, 284, 275, 182, 184, 145, 344, 321, 200, 149, 240, 241, 235,\n",
       "       226, 160, 341, 193, 320, 101, 224, 162, 243, 146,  99, 185, 119,\n",
       "       219, 209, 265, 221, 335,  66, 121, 316, 319, 254, 264, 124, 336,\n",
       "       304, 206, 106, 148, 368, 122, 164, 131, 142,  95, 173, 194, 152,\n",
       "       138, 157, 110, 159, 107, 312, 328, 225, 150, 211, 140, 163, 242,\n",
       "       116,  81,  93,  96,  72, 189, 303, 167,  73, 115, 143, 132, 181,\n",
       "       141, 103, 170, 130,  49,  83, 309, 120,  82, 227, 310, 151, 117,\n",
       "       104, 109,  57,  75,  79, 169,  71,  84, 153,  35,  47, 238, 180,\n",
       "        74, 237, 176, 190, 139, 125, 135, 156, 108, 171, 136,  53,  23,\n",
       "        67,  94, 113, 112,  41,  70, 174,  61, 102,  40,  64,  65,  60,\n",
       "       118, 223, 137,  63,  86, 155, 178,  36,  31,  88,  87,  58,  54,\n",
       "       114, 111, 158,  78,  92,  50,  26,  17,  85, 183,  80,  42,  69,\n",
       "        32, 154,  51,  20,  76,  34, 179,  68,  39,  59,  33,  56, 126,\n",
       "        19,  15,  37,  89,  62,  77,  29,  38, 105,  52,  28,  90,  46,\n",
       "        55,  43,   9,  91,  18,  16,  25,   7,  45,  27,  44,   8,  30,\n",
       "        22,  24,  21,  10,   4,  14,  13,  12,  11,   5,   6,   2,   3,\n",
       "         1,   0])"
      ]
     },
     "execution_count": 28,
     "metadata": {},
     "output_type": "execute_result"
    }
   ],
   "source": [
    "labels"
   ]
  },
  {
   "cell_type": "code",
   "execution_count": 29,
   "id": "4909d096",
   "metadata": {},
   "outputs": [],
   "source": [
    "from scipy.cluster.hierarchy import dendrogram\n",
    "from scipy.cluster import hierarchy"
   ]
  },
  {
   "cell_type": "code",
   "execution_count": 30,
   "id": "ad47d7c4",
   "metadata": {},
   "outputs": [
    {
     "data": {
      "text/plain": [
       "array([[ 67.        , 161.        ,   1.41421356,   2.        ],\n",
       "       [ 10.        ,  45.        ,   1.41421356,   2.        ],\n",
       "       [ 47.        ,  99.        ,   1.41421356,   2.        ],\n",
       "       ...,\n",
       "       [340.        , 777.        ,  56.40035461, 389.        ],\n",
       "       [332.        , 778.        ,  58.69412236, 390.        ],\n",
       "       [349.        , 779.        ,  75.32595834, 391.        ]])"
      ]
     },
     "execution_count": 30,
     "metadata": {},
     "output_type": "execute_result"
    }
   ],
   "source": [
    "linkageMat = hierarchy.linkage(model.children_)\n",
    "linkageMat"
   ]
  },
  {
   "cell_type": "code",
   "execution_count": 35,
   "id": "4c2be8e7",
   "metadata": {},
   "outputs": [
    {
     "data": {
      "text/plain": [
       "(array([   5,   15,   25,   35,   45,   55,   65,   75,   85,   95,  105,\n",
       "         115,  125,  135,  145,  155,  165,  175,  185,  195,  205,  215,\n",
       "         225,  235,  245,  255,  265,  275,  285,  295,  305,  315,  325,\n",
       "         335,  345,  355,  365,  375,  385,  395,  405,  415,  425,  435,\n",
       "         445,  455,  465,  475,  485,  495,  505,  515,  525,  535,  545,\n",
       "         555,  565,  575,  585,  595,  605,  615,  625,  635,  645,  655,\n",
       "         665,  675,  685,  695,  705,  715,  725,  735,  745,  755,  765,\n",
       "         775,  785,  795,  805,  815,  825,  835,  845,  855,  865,  875,\n",
       "         885,  895,  905,  915,  925,  935,  945,  955,  965,  975,  985,\n",
       "         995, 1005, 1015, 1025, 1035, 1045, 1055, 1065, 1075, 1085, 1095,\n",
       "        1105, 1115, 1125, 1135, 1145, 1155, 1165, 1175, 1185, 1195, 1205,\n",
       "        1215, 1225, 1235, 1245, 1255, 1265, 1275, 1285, 1295, 1305, 1315,\n",
       "        1325, 1335, 1345, 1355, 1365, 1375, 1385, 1395, 1405, 1415, 1425,\n",
       "        1435, 1445, 1455, 1465, 1475, 1485, 1495, 1505, 1515, 1525, 1535,\n",
       "        1545, 1555, 1565, 1575, 1585, 1595, 1605, 1615, 1625, 1635, 1645,\n",
       "        1655, 1665, 1675, 1685, 1695, 1705, 1715, 1725, 1735, 1745, 1755,\n",
       "        1765, 1775, 1785, 1795, 1805, 1815, 1825, 1835, 1845, 1855, 1865,\n",
       "        1875, 1885, 1895, 1905, 1915, 1925, 1935, 1945, 1955, 1965, 1975,\n",
       "        1985, 1995, 2005, 2015, 2025, 2035, 2045, 2055, 2065, 2075, 2085,\n",
       "        2095, 2105, 2115, 2125, 2135, 2145, 2155, 2165, 2175, 2185, 2195,\n",
       "        2205, 2215, 2225, 2235, 2245, 2255, 2265, 2275, 2285, 2295, 2305,\n",
       "        2315, 2325, 2335, 2345, 2355, 2365, 2375, 2385, 2395, 2405, 2415,\n",
       "        2425, 2435, 2445, 2455, 2465, 2475, 2485, 2495, 2505, 2515, 2525,\n",
       "        2535, 2545, 2555, 2565, 2575, 2585, 2595, 2605, 2615, 2625, 2635,\n",
       "        2645, 2655, 2665, 2675, 2685, 2695, 2705, 2715, 2725, 2735, 2745,\n",
       "        2755, 2765, 2775, 2785, 2795, 2805, 2815, 2825, 2835, 2845, 2855,\n",
       "        2865, 2875, 2885, 2895, 2905, 2915, 2925, 2935, 2945, 2955, 2965,\n",
       "        2975, 2985, 2995, 3005, 3015, 3025, 3035, 3045, 3055, 3065, 3075,\n",
       "        3085, 3095, 3105, 3115, 3125, 3135, 3145, 3155, 3165, 3175, 3185,\n",
       "        3195, 3205, 3215, 3225, 3235, 3245, 3255, 3265, 3275, 3285, 3295,\n",
       "        3305, 3315, 3325, 3335, 3345, 3355, 3365, 3375, 3385, 3395, 3405,\n",
       "        3415, 3425, 3435, 3445, 3455, 3465, 3475, 3485, 3495, 3505, 3515,\n",
       "        3525, 3535, 3545, 3555, 3565, 3575, 3585, 3595, 3605, 3615, 3625,\n",
       "        3635, 3645, 3655, 3665, 3675, 3685, 3695, 3705, 3715, 3725, 3735,\n",
       "        3745, 3755, 3765, 3775, 3785, 3795, 3805, 3815, 3825, 3835, 3845,\n",
       "        3855, 3865, 3875, 3885, 3895, 3905]),\n",
       " [Text(5, 0, '349'),\n",
       "  Text(15, 0, '332'),\n",
       "  Text(25, 0, '340'),\n",
       "  Text(35, 0, '296'),\n",
       "  Text(45, 0, '248'),\n",
       "  Text(55, 0, '257'),\n",
       "  Text(65, 0, '235'),\n",
       "  Text(75, 0, '213'),\n",
       "  Text(85, 0, '284'),\n",
       "  Text(95, 0, '306'),\n",
       "  Text(105, 0, '274'),\n",
       "  Text(115, 0, '313'),\n",
       "  Text(125, 0, '261'),\n",
       "  Text(135, 0, '267'),\n",
       "  Text(145, 0, '299'),\n",
       "  Text(155, 0, '252'),\n",
       "  Text(165, 0, '303'),\n",
       "  Text(175, 0, '236'),\n",
       "  Text(185, 0, '322'),\n",
       "  Text(195, 0, '291'),\n",
       "  Text(205, 0, '271'),\n",
       "  Text(215, 0, '272'),\n",
       "  Text(225, 0, '295'),\n",
       "  Text(235, 0, '307'),\n",
       "  Text(245, 0, '287'),\n",
       "  Text(255, 0, '250'),\n",
       "  Text(265, 0, '245'),\n",
       "  Text(275, 0, '312'),\n",
       "  Text(285, 0, '233'),\n",
       "  Text(295, 0, '199'),\n",
       "  Text(305, 0, '234'),\n",
       "  Text(315, 0, '285'),\n",
       "  Text(325, 0, '302'),\n",
       "  Text(335, 0, '264'),\n",
       "  Text(345, 0, '294'),\n",
       "  Text(355, 0, '132'),\n",
       "  Text(365, 0, '242'),\n",
       "  Text(375, 0, '220'),\n",
       "  Text(385, 0, '268'),\n",
       "  Text(395, 0, '290'),\n",
       "  Text(405, 0, '144'),\n",
       "  Text(415, 0, '201'),\n",
       "  Text(425, 0, '159'),\n",
       "  Text(435, 0, '200'),\n",
       "  Text(445, 0, '203'),\n",
       "  Text(455, 0, '225'),\n",
       "  Text(465, 0, '130'),\n",
       "  Text(475, 0, '223'),\n",
       "  Text(485, 0, '119'),\n",
       "  Text(495, 0, '102'),\n",
       "  Text(505, 0, '108'),\n",
       "  Text(515, 0, '89'),\n",
       "  Text(525, 0, '57'),\n",
       "  Text(535, 0, '91'),\n",
       "  Text(545, 0, '94'),\n",
       "  Text(555, 0, '14'),\n",
       "  Text(565, 0, '98'),\n",
       "  Text(575, 0, '176'),\n",
       "  Text(585, 0, '279'),\n",
       "  Text(595, 0, '255'),\n",
       "  Text(605, 0, '61'),\n",
       "  Text(615, 0, '1'),\n",
       "  Text(625, 0, '44'),\n",
       "  Text(635, 0, '17'),\n",
       "  Text(645, 0, '20'),\n",
       "  Text(655, 0, '66'),\n",
       "  Text(665, 0, '50'),\n",
       "  Text(675, 0, '71'),\n",
       "  Text(685, 0, '126'),\n",
       "  Text(695, 0, '172'),\n",
       "  Text(705, 0, '49'),\n",
       "  Text(715, 0, '155'),\n",
       "  Text(725, 0, '104'),\n",
       "  Text(735, 0, '175'),\n",
       "  Text(745, 0, '34'),\n",
       "  Text(755, 0, '78'),\n",
       "  Text(765, 0, '15'),\n",
       "  Text(775, 0, '69'),\n",
       "  Text(785, 0, '2'),\n",
       "  Text(795, 0, '0'),\n",
       "  Text(805, 0, '85'),\n",
       "  Text(815, 0, '11'),\n",
       "  Text(825, 0, '67'),\n",
       "  Text(835, 0, '161'),\n",
       "  Text(845, 0, '18'),\n",
       "  Text(855, 0, '160'),\n",
       "  Text(865, 0, '181'),\n",
       "  Text(875, 0, '115'),\n",
       "  Text(885, 0, '42'),\n",
       "  Text(895, 0, '147'),\n",
       "  Text(905, 0, '162'),\n",
       "  Text(915, 0, '29'),\n",
       "  Text(925, 0, '95'),\n",
       "  Text(935, 0, '140'),\n",
       "  Text(945, 0, '8'),\n",
       "  Text(955, 0, '96'),\n",
       "  Text(965, 0, '103'),\n",
       "  Text(975, 0, '134'),\n",
       "  Text(985, 0, '47'),\n",
       "  Text(995, 0, '99'),\n",
       "  Text(1005, 0, '19'),\n",
       "  Text(1015, 0, '25'),\n",
       "  Text(1025, 0, '114'),\n",
       "  Text(1035, 0, '68'),\n",
       "  Text(1045, 0, '260'),\n",
       "  Text(1055, 0, '110'),\n",
       "  Text(1065, 0, '113'),\n",
       "  Text(1075, 0, '27'),\n",
       "  Text(1085, 0, '143'),\n",
       "  Text(1095, 0, '10'),\n",
       "  Text(1105, 0, '45'),\n",
       "  Text(1115, 0, '3'),\n",
       "  Text(1125, 0, '120'),\n",
       "  Text(1135, 0, '21'),\n",
       "  Text(1145, 0, '64'),\n",
       "  Text(1155, 0, '150'),\n",
       "  Text(1165, 0, '70'),\n",
       "  Text(1175, 0, '92'),\n",
       "  Text(1185, 0, '26'),\n",
       "  Text(1195, 0, '36'),\n",
       "  Text(1205, 0, '43'),\n",
       "  Text(1215, 0, '122'),\n",
       "  Text(1225, 0, '60'),\n",
       "  Text(1235, 0, '193'),\n",
       "  Text(1245, 0, '38'),\n",
       "  Text(1255, 0, '40'),\n",
       "  Text(1265, 0, '83'),\n",
       "  Text(1275, 0, '23'),\n",
       "  Text(1285, 0, '73'),\n",
       "  Text(1295, 0, '65'),\n",
       "  Text(1305, 0, '46'),\n",
       "  Text(1315, 0, '82'),\n",
       "  Text(1325, 0, '80'),\n",
       "  Text(1335, 0, '90'),\n",
       "  Text(1345, 0, '48'),\n",
       "  Text(1355, 0, '168'),\n",
       "  Text(1365, 0, '277'),\n",
       "  Text(1375, 0, '163'),\n",
       "  Text(1385, 0, '106'),\n",
       "  Text(1395, 0, '183'),\n",
       "  Text(1405, 0, '41'),\n",
       "  Text(1415, 0, '128'),\n",
       "  Text(1425, 0, '124'),\n",
       "  Text(1435, 0, '28'),\n",
       "  Text(1445, 0, '9'),\n",
       "  Text(1455, 0, '24'),\n",
       "  Text(1465, 0, '84'),\n",
       "  Text(1475, 0, '215'),\n",
       "  Text(1485, 0, '22'),\n",
       "  Text(1495, 0, '32'),\n",
       "  Text(1505, 0, '111'),\n",
       "  Text(1515, 0, '166'),\n",
       "  Text(1525, 0, '35'),\n",
       "  Text(1535, 0, '79'),\n",
       "  Text(1545, 0, '177'),\n",
       "  Text(1555, 0, '86'),\n",
       "  Text(1565, 0, '55'),\n",
       "  Text(1575, 0, '58'),\n",
       "  Text(1585, 0, '81'),\n",
       "  Text(1595, 0, '182'),\n",
       "  Text(1605, 0, '51'),\n",
       "  Text(1615, 0, '6'),\n",
       "  Text(1625, 0, '30'),\n",
       "  Text(1635, 0, '136'),\n",
       "  Text(1645, 0, '156'),\n",
       "  Text(1655, 0, '77'),\n",
       "  Text(1665, 0, '59'),\n",
       "  Text(1675, 0, '154'),\n",
       "  Text(1685, 0, '53'),\n",
       "  Text(1695, 0, '107'),\n",
       "  Text(1705, 0, '165'),\n",
       "  Text(1715, 0, '308'),\n",
       "  Text(1725, 0, '56'),\n",
       "  Text(1735, 0, '12'),\n",
       "  Text(1745, 0, '4'),\n",
       "  Text(1755, 0, '13'),\n",
       "  Text(1765, 0, '93'),\n",
       "  Text(1775, 0, '75'),\n",
       "  Text(1785, 0, '87'),\n",
       "  Text(1795, 0, '197'),\n",
       "  Text(1805, 0, '100'),\n",
       "  Text(1815, 0, '109'),\n",
       "  Text(1825, 0, '149'),\n",
       "  Text(1835, 0, '157'),\n",
       "  Text(1845, 0, '76'),\n",
       "  Text(1855, 0, '72'),\n",
       "  Text(1865, 0, '228'),\n",
       "  Text(1875, 0, '139'),\n",
       "  Text(1885, 0, '7'),\n",
       "  Text(1895, 0, '31'),\n",
       "  Text(1905, 0, '52'),\n",
       "  Text(1915, 0, '54'),\n",
       "  Text(1925, 0, '62'),\n",
       "  Text(1935, 0, '101'),\n",
       "  Text(1945, 0, '37'),\n",
       "  Text(1955, 0, '16'),\n",
       "  Text(1965, 0, '74'),\n",
       "  Text(1975, 0, '219'),\n",
       "  Text(1985, 0, '123'),\n",
       "  Text(1995, 0, '135'),\n",
       "  Text(2005, 0, '141'),\n",
       "  Text(2015, 0, '5'),\n",
       "  Text(2025, 0, '39'),\n",
       "  Text(2035, 0, '189'),\n",
       "  Text(2045, 0, '33'),\n",
       "  Text(2055, 0, '146'),\n",
       "  Text(2065, 0, '357'),\n",
       "  Text(2075, 0, '117'),\n",
       "  Text(2085, 0, '179'),\n",
       "  Text(2095, 0, '335'),\n",
       "  Text(2105, 0, '218'),\n",
       "  Text(2115, 0, '153'),\n",
       "  Text(2125, 0, '112'),\n",
       "  Text(2135, 0, '251'),\n",
       "  Text(2145, 0, '254'),\n",
       "  Text(2155, 0, '174'),\n",
       "  Text(2165, 0, '129'),\n",
       "  Text(2175, 0, '118'),\n",
       "  Text(2185, 0, '205'),\n",
       "  Text(2195, 0, '289'),\n",
       "  Text(2205, 0, '125'),\n",
       "  Text(2215, 0, '214'),\n",
       "  Text(2225, 0, '341'),\n",
       "  Text(2235, 0, '318'),\n",
       "  Text(2245, 0, '328'),\n",
       "  Text(2255, 0, '334'),\n",
       "  Text(2265, 0, '138'),\n",
       "  Text(2275, 0, '192'),\n",
       "  Text(2285, 0, '333'),\n",
       "  Text(2295, 0, '355'),\n",
       "  Text(2305, 0, '346'),\n",
       "  Text(2315, 0, '348'),\n",
       "  Text(2325, 0, '350'),\n",
       "  Text(2335, 0, '387'),\n",
       "  Text(2345, 0, '389'),\n",
       "  Text(2355, 0, '388'),\n",
       "  Text(2365, 0, '390'),\n",
       "  Text(2375, 0, '383'),\n",
       "  Text(2385, 0, '381'),\n",
       "  Text(2395, 0, '386'),\n",
       "  Text(2405, 0, '384'),\n",
       "  Text(2415, 0, '380'),\n",
       "  Text(2425, 0, '382'),\n",
       "  Text(2435, 0, '367'),\n",
       "  Text(2445, 0, '326'),\n",
       "  Text(2455, 0, '330'),\n",
       "  Text(2465, 0, '339'),\n",
       "  Text(2475, 0, '344'),\n",
       "  Text(2485, 0, '365'),\n",
       "  Text(2495, 0, '360'),\n",
       "  Text(2505, 0, '352'),\n",
       "  Text(2515, 0, '371'),\n",
       "  Text(2525, 0, '343'),\n",
       "  Text(2535, 0, '345'),\n",
       "  Text(2545, 0, '359'),\n",
       "  Text(2555, 0, '327'),\n",
       "  Text(2565, 0, '325'),\n",
       "  Text(2575, 0, '329'),\n",
       "  Text(2585, 0, '338'),\n",
       "  Text(2595, 0, '323'),\n",
       "  Text(2605, 0, '347'),\n",
       "  Text(2615, 0, '310'),\n",
       "  Text(2625, 0, '331'),\n",
       "  Text(2635, 0, '342'),\n",
       "  Text(2645, 0, '297'),\n",
       "  Text(2655, 0, '320'),\n",
       "  Text(2665, 0, '361'),\n",
       "  Text(2675, 0, '358'),\n",
       "  Text(2685, 0, '364'),\n",
       "  Text(2695, 0, '372'),\n",
       "  Text(2705, 0, '368'),\n",
       "  Text(2715, 0, '374'),\n",
       "  Text(2725, 0, '373'),\n",
       "  Text(2735, 0, '375'),\n",
       "  Text(2745, 0, '379'),\n",
       "  Text(2755, 0, '366'),\n",
       "  Text(2765, 0, '369'),\n",
       "  Text(2775, 0, '385'),\n",
       "  Text(2785, 0, '377'),\n",
       "  Text(2795, 0, '378'),\n",
       "  Text(2805, 0, '370'),\n",
       "  Text(2815, 0, '376'),\n",
       "  Text(2825, 0, '353'),\n",
       "  Text(2835, 0, '362'),\n",
       "  Text(2845, 0, '356'),\n",
       "  Text(2855, 0, '363'),\n",
       "  Text(2865, 0, '351'),\n",
       "  Text(2875, 0, '354'),\n",
       "  Text(2885, 0, '262'),\n",
       "  Text(2895, 0, '259'),\n",
       "  Text(2905, 0, '305'),\n",
       "  Text(2915, 0, '206'),\n",
       "  Text(2925, 0, '249'),\n",
       "  Text(2935, 0, '116'),\n",
       "  Text(2945, 0, '336'),\n",
       "  Text(2955, 0, '292'),\n",
       "  Text(2965, 0, '337'),\n",
       "  Text(2975, 0, '300'),\n",
       "  Text(2985, 0, '321'),\n",
       "  Text(2995, 0, '314'),\n",
       "  Text(3005, 0, '317'),\n",
       "  Text(3015, 0, '304'),\n",
       "  Text(3025, 0, '324'),\n",
       "  Text(3035, 0, '258'),\n",
       "  Text(3045, 0, '281'),\n",
       "  Text(3055, 0, '286'),\n",
       "  Text(3065, 0, '269'),\n",
       "  Text(3075, 0, '319'),\n",
       "  Text(3085, 0, '311'),\n",
       "  Text(3095, 0, '301'),\n",
       "  Text(3105, 0, '276'),\n",
       "  Text(3115, 0, '282'),\n",
       "  Text(3125, 0, '309'),\n",
       "  Text(3135, 0, '316'),\n",
       "  Text(3145, 0, '273'),\n",
       "  Text(3155, 0, '315'),\n",
       "  Text(3165, 0, '246'),\n",
       "  Text(3175, 0, '216'),\n",
       "  Text(3185, 0, '247'),\n",
       "  Text(3195, 0, '243'),\n",
       "  Text(3205, 0, '298'),\n",
       "  Text(3215, 0, '275'),\n",
       "  Text(3225, 0, '283'),\n",
       "  Text(3235, 0, '280'),\n",
       "  Text(3245, 0, '171'),\n",
       "  Text(3255, 0, '293'),\n",
       "  Text(3265, 0, '238'),\n",
       "  Text(3275, 0, '212'),\n",
       "  Text(3285, 0, '151'),\n",
       "  Text(3295, 0, '204'),\n",
       "  Text(3305, 0, '226'),\n",
       "  Text(3315, 0, '196'),\n",
       "  Text(3325, 0, '222'),\n",
       "  Text(3335, 0, '256'),\n",
       "  Text(3345, 0, '263'),\n",
       "  Text(3355, 0, '224'),\n",
       "  Text(3365, 0, '241'),\n",
       "  Text(3375, 0, '229'),\n",
       "  Text(3385, 0, '266'),\n",
       "  Text(3395, 0, '288'),\n",
       "  Text(3405, 0, '265'),\n",
       "  Text(3415, 0, '278'),\n",
       "  Text(3425, 0, '253'),\n",
       "  Text(3435, 0, '270'),\n",
       "  Text(3445, 0, '194'),\n",
       "  Text(3455, 0, '208'),\n",
       "  Text(3465, 0, '211'),\n",
       "  Text(3475, 0, '169'),\n",
       "  Text(3485, 0, '178'),\n",
       "  Text(3495, 0, '127'),\n",
       "  Text(3505, 0, '152'),\n",
       "  Text(3515, 0, '137'),\n",
       "  Text(3525, 0, '186'),\n",
       "  Text(3535, 0, '217'),\n",
       "  Text(3545, 0, '190'),\n",
       "  Text(3555, 0, '202'),\n",
       "  Text(3565, 0, '191'),\n",
       "  Text(3575, 0, '232'),\n",
       "  Text(3585, 0, '237'),\n",
       "  Text(3595, 0, '230'),\n",
       "  Text(3605, 0, '240'),\n",
       "  Text(3615, 0, '231'),\n",
       "  Text(3625, 0, '187'),\n",
       "  Text(3635, 0, '207'),\n",
       "  Text(3645, 0, '145'),\n",
       "  Text(3655, 0, '63'),\n",
       "  Text(3665, 0, '88'),\n",
       "  Text(3675, 0, '180'),\n",
       "  Text(3685, 0, '142'),\n",
       "  Text(3695, 0, '185'),\n",
       "  Text(3705, 0, '148'),\n",
       "  Text(3715, 0, '164'),\n",
       "  Text(3725, 0, '209'),\n",
       "  Text(3735, 0, '221'),\n",
       "  Text(3745, 0, '170'),\n",
       "  Text(3755, 0, '227'),\n",
       "  Text(3765, 0, '239'),\n",
       "  Text(3775, 0, '198'),\n",
       "  Text(3785, 0, '244'),\n",
       "  Text(3795, 0, '97'),\n",
       "  Text(3805, 0, '105'),\n",
       "  Text(3815, 0, '158'),\n",
       "  Text(3825, 0, '184'),\n",
       "  Text(3835, 0, '121'),\n",
       "  Text(3845, 0, '195'),\n",
       "  Text(3855, 0, '173'),\n",
       "  Text(3865, 0, '131'),\n",
       "  Text(3875, 0, '133'),\n",
       "  Text(3885, 0, '210'),\n",
       "  Text(3895, 0, '167'),\n",
       "  Text(3905, 0, '188')])"
      ]
     },
     "execution_count": 35,
     "metadata": {},
     "output_type": "execute_result"
    },
    {
     "data": {
      "image/png": "[encoded data removed]",
      "text/plain": [
       "<Figure size 864x576 with 1 Axes>"
      ]
     },
     "metadata": {
      "needs_background": "light"
     },
     "output_type": "display_data"
    }
   ],
   "source": [
    "plt.figure(figsize=(12,8))\n",
    "dn = hierarchy.dendrogram(linkageMat)"
   ]
  },
  {
   "cell_type": "code",
   "execution_count": 37,
   "id": "b7025dd4",
   "metadata": {},
   "outputs": [
    {
     "data": {
      "image/png": "[encoded data removed]",
      "text/plain": [
       "<Figure size 864x576 with 1 Axes>"
      ]
     },
     "metadata": {
      "needs_background": "light"
     },
     "output_type": "display_data"
    }
   ],
   "source": [
    "plt.figure(figsize=(12,8))\n",
    "dn = hierarchy.dendrogram(linkageMat, truncate_mode='lastp',p=48)"
   ]
  },
  {
   "cell_type": "code",
   "execution_count": 38,
   "id": "1ce0bc1d",
   "metadata": {},
   "outputs": [
    {
     "data": {
      "text/html": [
       "<div>\n",
       "<style scoped>\n",
       "    .dataframe tbody tr th:only-of-type {\n",
       "        vertical-align: middle;\n",
       "    }\n",
       "\n",
       "    .dataframe tbody tr th {\n",
       "        vertical-align: top;\n",
       "    }\n",
       "\n",
       "    .dataframe thead th {\n",
       "        text-align: right;\n",
       "    }\n",
       "</style>\n",
       "<table border=\"1\" class=\"dataframe\">\n",
       "  <thead>\n",
       "    <tr style=\"text-align: right;\">\n",
       "      <th></th>\n",
       "      <th>mpg</th>\n",
       "      <th>cylinders</th>\n",
       "      <th>displacement</th>\n",
       "      <th>horsepower</th>\n",
       "      <th>weight</th>\n",
       "      <th>acceleration</th>\n",
       "      <th>model_year</th>\n",
       "      <th>origin_europe</th>\n",
       "      <th>origin_japan</th>\n",
       "      <th>origin_usa</th>\n",
       "    </tr>\n",
       "  </thead>\n",
       "  <tbody>\n",
       "    <tr>\n",
       "      <th>count</th>\n",
       "      <td>392.000000</td>\n",
       "      <td>392.000000</td>\n",
       "      <td>392.000000</td>\n",
       "      <td>392.000000</td>\n",
       "      <td>392.000000</td>\n",
       "      <td>392.000000</td>\n",
       "      <td>392.000000</td>\n",
       "      <td>392.000000</td>\n",
       "      <td>392.000000</td>\n",
       "      <td>392.000000</td>\n",
       "    </tr>\n",
       "    <tr>\n",
       "      <th>mean</th>\n",
       "      <td>0.384200</td>\n",
       "      <td>0.494388</td>\n",
       "      <td>0.326646</td>\n",
       "      <td>0.317768</td>\n",
       "      <td>0.386897</td>\n",
       "      <td>0.448888</td>\n",
       "      <td>0.498299</td>\n",
       "      <td>0.173469</td>\n",
       "      <td>0.201531</td>\n",
       "      <td>0.625000</td>\n",
       "    </tr>\n",
       "    <tr>\n",
       "      <th>std</th>\n",
       "      <td>0.207580</td>\n",
       "      <td>0.341157</td>\n",
       "      <td>0.270398</td>\n",
       "      <td>0.209191</td>\n",
       "      <td>0.240829</td>\n",
       "      <td>0.164218</td>\n",
       "      <td>0.306978</td>\n",
       "      <td>0.379136</td>\n",
       "      <td>0.401656</td>\n",
       "      <td>0.484742</td>\n",
       "    </tr>\n",
       "    <tr>\n",
       "      <th>min</th>\n",
       "      <td>0.000000</td>\n",
       "      <td>0.000000</td>\n",
       "      <td>0.000000</td>\n",
       "      <td>0.000000</td>\n",
       "      <td>0.000000</td>\n",
       "      <td>0.000000</td>\n",
       "      <td>0.000000</td>\n",
       "      <td>0.000000</td>\n",
       "      <td>0.000000</td>\n",
       "      <td>0.000000</td>\n",
       "    </tr>\n",
       "    <tr>\n",
       "      <th>25%</th>\n",
       "      <td>0.212766</td>\n",
       "      <td>0.200000</td>\n",
       "      <td>0.095607</td>\n",
       "      <td>0.157609</td>\n",
       "      <td>0.173589</td>\n",
       "      <td>0.343750</td>\n",
       "      <td>0.250000</td>\n",
       "      <td>0.000000</td>\n",
       "      <td>0.000000</td>\n",
       "      <td>0.000000</td>\n",
       "    </tr>\n",
       "    <tr>\n",
       "      <th>50%</th>\n",
       "      <td>0.365691</td>\n",
       "      <td>0.200000</td>\n",
       "      <td>0.214470</td>\n",
       "      <td>0.258152</td>\n",
       "      <td>0.337539</td>\n",
       "      <td>0.446429</td>\n",
       "      <td>0.500000</td>\n",
       "      <td>0.000000</td>\n",
       "      <td>0.000000</td>\n",
       "      <td>1.000000</td>\n",
       "    </tr>\n",
       "    <tr>\n",
       "      <th>75%</th>\n",
       "      <td>0.531915</td>\n",
       "      <td>1.000000</td>\n",
       "      <td>0.536822</td>\n",
       "      <td>0.434783</td>\n",
       "      <td>0.567550</td>\n",
       "      <td>0.537202</td>\n",
       "      <td>0.750000</td>\n",
       "      <td>0.000000</td>\n",
       "      <td>0.000000</td>\n",
       "      <td>1.000000</td>\n",
       "    </tr>\n",
       "    <tr>\n",
       "      <th>max</th>\n",
       "      <td>1.000000</td>\n",
       "      <td>1.000000</td>\n",
       "      <td>1.000000</td>\n",
       "      <td>1.000000</td>\n",
       "      <td>1.000000</td>\n",
       "      <td>1.000000</td>\n",
       "      <td>1.000000</td>\n",
       "      <td>1.000000</td>\n",
       "      <td>1.000000</td>\n",
       "      <td>1.000000</td>\n",
       "    </tr>\n",
       "  </tbody>\n",
       "</table>\n",
       "</div>"
      ],
      "text/plain": [
       "              mpg   cylinders  displacement  horsepower      weight  \\\n",
       "count  392.000000  392.000000    392.000000  392.000000  392.000000   \n",
       "mean     0.384200    0.494388      0.326646    0.317768    0.386897   \n",
       "std      0.207580    0.341157      0.270398    0.209191    0.240829   \n",
       "min      0.000000    0.000000      0.000000    0.000000    0.000000   \n",
       "25%      0.212766    0.200000      0.095607    0.157609    0.173589   \n",
       "50%      0.365691    0.200000      0.214470    0.258152    0.337539   \n",
       "75%      0.531915    1.000000      0.536822    0.434783    0.567550   \n",
       "max      1.000000    1.000000      1.000000    1.000000    1.000000   \n",
       "\n",
       "       acceleration  model_year  origin_europe  origin_japan  origin_usa  \n",
       "count    392.000000  392.000000     392.000000    392.000000  392.000000  \n",
       "mean       0.448888    0.498299       0.173469      0.201531    0.625000  \n",
       "std        0.164218    0.306978       0.379136      0.401656    0.484742  \n",
       "min        0.000000    0.000000       0.000000      0.000000    0.000000  \n",
       "25%        0.343750    0.250000       0.000000      0.000000    0.000000  \n",
       "50%        0.446429    0.500000       0.000000      0.000000    1.000000  \n",
       "75%        0.537202    0.750000       0.000000      0.000000    1.000000  \n",
       "max        1.000000    1.000000       1.000000      1.000000    1.000000  "
      ]
     },
     "execution_count": 38,
     "metadata": {},
     "output_type": "execute_result"
    }
   ],
   "source": [
    "dfS.describe()"
   ]
  },
  {
   "cell_type": "code",
   "execution_count": 40,
   "id": "2073c990",
   "metadata": {},
   "outputs": [
    {
     "data": {
      "text/plain": [
       "320"
      ]
     },
     "execution_count": 40,
     "metadata": {},
     "output_type": "execute_result"
    }
   ],
   "source": [
    "dfS['mpg'].idxmax()"
   ]
  },
  {
   "cell_type": "code",
   "execution_count": 42,
   "id": "f0fc15a2",
   "metadata": {},
   "outputs": [
    {
     "data": {
      "text/plain": [
       "46.6"
      ]
     },
     "execution_count": 42,
     "metadata": {},
     "output_type": "execute_result"
    }
   ],
   "source": [
    "df['mpg'].iloc[320]"
   ]
  },
  {
   "cell_type": "code",
   "execution_count": 43,
   "id": "a61f6aa1",
   "metadata": {},
   "outputs": [
    {
     "data": {
      "text/plain": [
       "count    392.000000\n",
       "mean      23.445918\n",
       "std        7.805007\n",
       "min        9.000000\n",
       "25%       17.000000\n",
       "50%       22.750000\n",
       "75%       29.000000\n",
       "max       46.600000\n",
       "Name: mpg, dtype: float64"
      ]
     },
     "execution_count": 43,
     "metadata": {},
     "output_type": "execute_result"
    }
   ],
   "source": [
    "df['mpg'].describe()"
   ]
  },
  {
   "cell_type": "code",
   "execution_count": 44,
   "id": "cbb5d900",
   "metadata": {},
   "outputs": [
    {
     "data": {
      "text/plain": [
       "28"
      ]
     },
     "execution_count": 44,
     "metadata": {},
     "output_type": "execute_result"
    }
   ],
   "source": [
    "dfS['mpg'].idxmin()"
   ]
  },
  {
   "cell_type": "code",
   "execution_count": 45,
   "id": "d5e0eff1",
   "metadata": {},
   "outputs": [
    {
     "data": {
      "text/plain": [
       "9.0"
      ]
     },
     "execution_count": 45,
     "metadata": {},
     "output_type": "execute_result"
    }
   ],
   "source": [
    "df['mpg'].iloc[28]"
   ]
  },
  {
   "cell_type": "code",
   "execution_count": 47,
   "id": "57fde29e",
   "metadata": {},
   "outputs": [
    {
     "data": {
      "text/plain": [
       "2.3852929970374714"
      ]
     },
     "execution_count": 47,
     "metadata": {},
     "output_type": "execute_result"
    }
   ],
   "source": [
    "a  = dfS.iloc[320]\n",
    "b = dfS.iloc[28]\n",
    "dist = np.linalg.norm(a-b)\n",
    "dist"
   ]
  },
  {
   "cell_type": "code",
   "execution_count": 48,
   "id": "27886487",
   "metadata": {},
   "outputs": [],
   "source": [
    "model = AgglomerativeClustering(n_clusters=None,distance_threshold=2)"
   ]
  },
  {
   "cell_type": "code",
   "execution_count": 50,
   "id": "82ba632f",
   "metadata": {},
   "outputs": [],
   "source": [
    "labels = model.fit_predict(dfS)"
   ]
  },
  {
   "cell_type": "code",
   "execution_count": 51,
   "id": "a4717b19",
   "metadata": {},
   "outputs": [],
   "source": [
    "linkMat = hierarchy.linkage(model.children_)"
   ]
  },
  {
   "cell_type": "code",
   "execution_count": 53,
   "id": "b1ca5331",
   "metadata": {},
   "outputs": [
    {
     "data": {
      "image/png": "[encoded data removed]",
      "text/plain": [
       "<Figure size 864x576 with 1 Axes>"
      ]
     },
     "metadata": {
      "needs_background": "light"
     },
     "output_type": "display_data"
    }
   ],
   "source": [
    "plt.figure(figsize=(12,8))\n",
    "dn = hierarchy.dendrogram(linkMat,truncate_mode='lastp',p=11)"
   ]
  },
  {
   "cell_type": "code",
   "execution_count": null,
   "id": "64d44c5d",
   "metadata": {},
   "outputs": [],
   "source": []
  }
 ],
 "metadata": {
  "kernelspec": {
   "display_name": "Python 3 (ipykernel)",
   "language": "python",
   "name": "python3"
  },
  "language_info": {
   "codemirror_mode": {
    "name": "ipython",
    "version": 3
   },
   "file_extension": ".py",
   "mimetype": "text/x-python",
   "name": "python",
   "nbconvert_exporter": "python",
   "pygments_lexer": "ipython3",
   "version": "3.9.5"
  }
 },
 "nbformat": 4,
 "nbformat_minor": 5
}
